{
 "cells": [
  {
   "cell_type": "code",
   "execution_count": 4,
   "metadata": {},
   "outputs": [],
   "source": [
    "#import programs\n",
    "import pandas as pd\n",
    "import numpy as np\n",
    "import seaborn as sns\n",
    "import matplotlib.pyplot as plt"
   ]
  },
  {
   "cell_type": "code",
   "execution_count": 32,
   "metadata": {},
   "outputs": [
    {
     "data": {
      "text/html": [
       "<div>\n",
       "<style scoped>\n",
       "    .dataframe tbody tr th:only-of-type {\n",
       "        vertical-align: middle;\n",
       "    }\n",
       "\n",
       "    .dataframe tbody tr th {\n",
       "        vertical-align: top;\n",
       "    }\n",
       "\n",
       "    .dataframe thead th {\n",
       "        text-align: right;\n",
       "    }\n",
       "</style>\n",
       "<table border=\"1\" class=\"dataframe\">\n",
       "  <thead>\n",
       "    <tr style=\"text-align: right;\">\n",
       "      <th></th>\n",
       "      <th>Address</th>\n",
       "      <th>IncidentDate</th>\n",
       "      <th>Incident day</th>\n",
       "      <th>AlarmDt</th>\n",
       "      <th>Alarm day</th>\n",
       "      <th>AlarmTm</th>\n",
       "      <th>ArrivalDt</th>\n",
       "      <th>ArrivalTm</th>\n",
       "      <th>CloseDt</th>\n",
       "      <th>CloseTm</th>\n",
       "      <th>...</th>\n",
       "      <th>EMSUnits</th>\n",
       "      <th>EMSPersonnel</th>\n",
       "      <th>OtherUnits</th>\n",
       "      <th>OtherPersonnel</th>\n",
       "      <th>Primary</th>\n",
       "      <th>Category</th>\n",
       "      <th>PrimarySituation</th>\n",
       "      <th>MutualAid</th>\n",
       "      <th>SupervisorDistrict</th>\n",
       "      <th>NeighborhoodDistrict</th>\n",
       "    </tr>\n",
       "  </thead>\n",
       "  <tbody>\n",
       "    <tr>\n",
       "      <th>0</th>\n",
       "      <td>5th St/jessie Street</td>\n",
       "      <td>1/1/2016</td>\n",
       "      <td>Friday</td>\n",
       "      <td>1/1/2016</td>\n",
       "      <td>Friday</td>\n",
       "      <td>3:05:56</td>\n",
       "      <td>1/1/2016</td>\n",
       "      <td>3:12:09</td>\n",
       "      <td>1/1/2016</td>\n",
       "      <td>3:13:08</td>\n",
       "      <td>...</td>\n",
       "      <td>0</td>\n",
       "      <td>0</td>\n",
       "      <td>0</td>\n",
       "      <td>0</td>\n",
       "      <td>600</td>\n",
       "      <td>Good Intent</td>\n",
       "      <td>good intent call, other</td>\n",
       "      <td>n none</td>\n",
       "      <td>6.0</td>\n",
       "      <td>South of Market</td>\n",
       "    </tr>\n",
       "    <tr>\n",
       "      <th>1</th>\n",
       "      <td>Stockton St/sutter Street</td>\n",
       "      <td>1/1/2016</td>\n",
       "      <td>Friday</td>\n",
       "      <td>1/1/2016</td>\n",
       "      <td>Friday</td>\n",
       "      <td>8:20:46</td>\n",
       "      <td>1/1/2016</td>\n",
       "      <td>8:24:57</td>\n",
       "      <td>1/1/2016</td>\n",
       "      <td>8:25:17</td>\n",
       "      <td>...</td>\n",
       "      <td>0</td>\n",
       "      <td>0</td>\n",
       "      <td>0</td>\n",
       "      <td>0</td>\n",
       "      <td>710</td>\n",
       "      <td>False Alarm</td>\n",
       "      <td>malicious, mischievous false call, other</td>\n",
       "      <td>n none</td>\n",
       "      <td>3.0</td>\n",
       "      <td>Financial District/South Beach</td>\n",
       "    </tr>\n",
       "    <tr>\n",
       "      <th>2</th>\n",
       "      <td>277 Golden Gate Avenue</td>\n",
       "      <td>1/1/2016</td>\n",
       "      <td>Friday</td>\n",
       "      <td>1/1/2016</td>\n",
       "      <td>Friday</td>\n",
       "      <td>4:43:25</td>\n",
       "      <td>1/1/2016</td>\n",
       "      <td>4:48:45</td>\n",
       "      <td>1/1/2016</td>\n",
       "      <td>5:10:07</td>\n",
       "      <td>...</td>\n",
       "      <td>0</td>\n",
       "      <td>0</td>\n",
       "      <td>0</td>\n",
       "      <td>0</td>\n",
       "      <td>743</td>\n",
       "      <td>False Alarm</td>\n",
       "      <td>smoke detector activation, no fire - unintenti...</td>\n",
       "      <td>n none</td>\n",
       "      <td>6.0</td>\n",
       "      <td>Tenderloin</td>\n",
       "    </tr>\n",
       "    <tr>\n",
       "      <th>3</th>\n",
       "      <td>Minna St/4th Street</td>\n",
       "      <td>1/1/2016</td>\n",
       "      <td>Friday</td>\n",
       "      <td>1/1/2016</td>\n",
       "      <td>Friday</td>\n",
       "      <td>17:55:50</td>\n",
       "      <td>1/1/2016</td>\n",
       "      <td>18:03:16</td>\n",
       "      <td>1/1/2016</td>\n",
       "      <td>18:05:59</td>\n",
       "      <td>...</td>\n",
       "      <td>0</td>\n",
       "      <td>0</td>\n",
       "      <td>0</td>\n",
       "      <td>0</td>\n",
       "      <td>151</td>\n",
       "      <td>Fire</td>\n",
       "      <td>outside rubbish, trash or waste fire</td>\n",
       "      <td>n none</td>\n",
       "      <td>6.0</td>\n",
       "      <td>South of Market</td>\n",
       "    </tr>\n",
       "    <tr>\n",
       "      <th>4</th>\n",
       "      <td>Golden Gate Av/6th Street</td>\n",
       "      <td>1/1/2016</td>\n",
       "      <td>Friday</td>\n",
       "      <td>1/1/2016</td>\n",
       "      <td>Friday</td>\n",
       "      <td>5:35:47</td>\n",
       "      <td>1/1/2016</td>\n",
       "      <td>5:41:10</td>\n",
       "      <td>1/1/2016</td>\n",
       "      <td>5:42:21</td>\n",
       "      <td>...</td>\n",
       "      <td>0</td>\n",
       "      <td>0</td>\n",
       "      <td>0</td>\n",
       "      <td>0</td>\n",
       "      <td>151</td>\n",
       "      <td>Fire</td>\n",
       "      <td>outside rubbish, trash or waste fire</td>\n",
       "      <td>n none</td>\n",
       "      <td>6.0</td>\n",
       "      <td>South of Market</td>\n",
       "    </tr>\n",
       "  </tbody>\n",
       "</table>\n",
       "<p>5 rows × 26 columns</p>\n",
       "</div>"
      ],
      "text/plain": [
       "                     Address IncidentDate Incident day   AlarmDt Alarm day  \\\n",
       "0       5th St/jessie Street     1/1/2016       Friday  1/1/2016    Friday   \n",
       "1  Stockton St/sutter Street     1/1/2016       Friday  1/1/2016    Friday   \n",
       "2     277 Golden Gate Avenue     1/1/2016       Friday  1/1/2016    Friday   \n",
       "3        Minna St/4th Street     1/1/2016       Friday  1/1/2016    Friday   \n",
       "4  Golden Gate Av/6th Street     1/1/2016       Friday  1/1/2016    Friday   \n",
       "\n",
       "    AlarmTm ArrivalDt ArrivalTm   CloseDt   CloseTm  ... EMSUnits  \\\n",
       "0   3:05:56  1/1/2016   3:12:09  1/1/2016   3:13:08  ...        0   \n",
       "1   8:20:46  1/1/2016   8:24:57  1/1/2016   8:25:17  ...        0   \n",
       "2   4:43:25  1/1/2016   4:48:45  1/1/2016   5:10:07  ...        0   \n",
       "3  17:55:50  1/1/2016  18:03:16  1/1/2016  18:05:59  ...        0   \n",
       "4   5:35:47  1/1/2016   5:41:10  1/1/2016   5:42:21  ...        0   \n",
       "\n",
       "   EMSPersonnel OtherUnits  OtherPersonnel  Primary     Category  \\\n",
       "0             0          0               0      600  Good Intent   \n",
       "1             0          0               0      710  False Alarm   \n",
       "2             0          0               0      743  False Alarm   \n",
       "3             0          0               0      151         Fire   \n",
       "4             0          0               0      151         Fire   \n",
       "\n",
       "                                    PrimarySituation  MutualAid  \\\n",
       "0                            good intent call, other     n none   \n",
       "1           malicious, mischievous false call, other     n none   \n",
       "2  smoke detector activation, no fire - unintenti...     n none   \n",
       "3               outside rubbish, trash or waste fire     n none   \n",
       "4               outside rubbish, trash or waste fire     n none   \n",
       "\n",
       "   SupervisorDistrict            NeighborhoodDistrict  \n",
       "0                 6.0                 South of Market  \n",
       "1                 3.0  Financial District/South Beach  \n",
       "2                 6.0                      Tenderloin  \n",
       "3                 6.0                 South of Market  \n",
       "4                 6.0                 South of Market  \n",
       "\n",
       "[5 rows x 26 columns]"
      ]
     },
     "execution_count": 32,
     "metadata": {},
     "output_type": "execute_result"
    }
   ],
   "source": [
    "# to import the raw data into pandas\n",
    "SFOEMS = pd.read_csv('EMS_SFO_Data.csv', header=0)\n",
    "SFOEMS.head()\n"
   ]
  },
  {
   "cell_type": "code",
   "execution_count": 42,
   "metadata": {},
   "outputs": [
    {
     "data": {
      "text/plain": [
       "Address                             object\n",
       "IncidentDate                        object\n",
       "Incident day                        object\n",
       "AlarmDt                             object\n",
       "Alarm day                           object\n",
       "AlarmTm                             object\n",
       "ArrivalDt                           object\n",
       "ArrivalTm                           object\n",
       "CloseDt                             object\n",
       "CloseTm                             object\n",
       "Difference between arrival time     object\n",
       "Zipcode                              int64\n",
       "Battalion                           object\n",
       "StationArea                        float64\n",
       "SuppressionUnits                     int64\n",
       "SuppressionPersonnel                 int64\n",
       "EMSUnits                             int64\n",
       "EMSPersonnel                         int64\n",
       "OtherUnits                           int64\n",
       "OtherPersonnel                       int64\n",
       "Primary                              int64\n",
       "Category                            object\n",
       "PrimarySituation                    object\n",
       "MutualAid                           object\n",
       "SupervisorDistrict                 float64\n",
       "NeighborhoodDistrict                object\n",
       "month                                int64\n",
       "Season                              object\n",
       "dtype: object"
      ]
     },
     "execution_count": 42,
     "metadata": {},
     "output_type": "execute_result"
    }
   ],
   "source": [
    "SFOEMS.dtypes"
   ]
  },
  {
   "cell_type": "code",
   "execution_count": 33,
   "metadata": {},
   "outputs": [
    {
     "data": {
      "text/html": [
       "<div>\n",
       "<style scoped>\n",
       "    .dataframe tbody tr th:only-of-type {\n",
       "        vertical-align: middle;\n",
       "    }\n",
       "\n",
       "    .dataframe tbody tr th {\n",
       "        vertical-align: top;\n",
       "    }\n",
       "\n",
       "    .dataframe thead th {\n",
       "        text-align: right;\n",
       "    }\n",
       "</style>\n",
       "<table border=\"1\" class=\"dataframe\">\n",
       "  <thead>\n",
       "    <tr style=\"text-align: right;\">\n",
       "      <th></th>\n",
       "      <th>Address</th>\n",
       "      <th>IncidentDate</th>\n",
       "      <th>Incident day</th>\n",
       "      <th>AlarmDt</th>\n",
       "      <th>Alarm day</th>\n",
       "      <th>AlarmTm</th>\n",
       "      <th>ArrivalDt</th>\n",
       "      <th>ArrivalTm</th>\n",
       "      <th>CloseDt</th>\n",
       "      <th>CloseTm</th>\n",
       "      <th>...</th>\n",
       "      <th>EMSPersonnel</th>\n",
       "      <th>OtherUnits</th>\n",
       "      <th>OtherPersonnel</th>\n",
       "      <th>Primary</th>\n",
       "      <th>Category</th>\n",
       "      <th>PrimarySituation</th>\n",
       "      <th>MutualAid</th>\n",
       "      <th>SupervisorDistrict</th>\n",
       "      <th>NeighborhoodDistrict</th>\n",
       "      <th>month</th>\n",
       "    </tr>\n",
       "  </thead>\n",
       "  <tbody>\n",
       "    <tr>\n",
       "      <th>0</th>\n",
       "      <td>5th St/jessie Street</td>\n",
       "      <td>1/1/2016</td>\n",
       "      <td>Friday</td>\n",
       "      <td>1/1/2016</td>\n",
       "      <td>Friday</td>\n",
       "      <td>3:05:56</td>\n",
       "      <td>1/1/2016</td>\n",
       "      <td>3:12:09</td>\n",
       "      <td>1/1/2016</td>\n",
       "      <td>3:13:08</td>\n",
       "      <td>...</td>\n",
       "      <td>0</td>\n",
       "      <td>0</td>\n",
       "      <td>0</td>\n",
       "      <td>600</td>\n",
       "      <td>Good Intent</td>\n",
       "      <td>good intent call, other</td>\n",
       "      <td>n none</td>\n",
       "      <td>6.0</td>\n",
       "      <td>South of Market</td>\n",
       "      <td>1</td>\n",
       "    </tr>\n",
       "    <tr>\n",
       "      <th>1</th>\n",
       "      <td>Stockton St/sutter Street</td>\n",
       "      <td>1/1/2016</td>\n",
       "      <td>Friday</td>\n",
       "      <td>1/1/2016</td>\n",
       "      <td>Friday</td>\n",
       "      <td>8:20:46</td>\n",
       "      <td>1/1/2016</td>\n",
       "      <td>8:24:57</td>\n",
       "      <td>1/1/2016</td>\n",
       "      <td>8:25:17</td>\n",
       "      <td>...</td>\n",
       "      <td>0</td>\n",
       "      <td>0</td>\n",
       "      <td>0</td>\n",
       "      <td>710</td>\n",
       "      <td>False Alarm</td>\n",
       "      <td>malicious, mischievous false call, other</td>\n",
       "      <td>n none</td>\n",
       "      <td>3.0</td>\n",
       "      <td>Financial District/South Beach</td>\n",
       "      <td>1</td>\n",
       "    </tr>\n",
       "    <tr>\n",
       "      <th>2</th>\n",
       "      <td>277 Golden Gate Avenue</td>\n",
       "      <td>1/1/2016</td>\n",
       "      <td>Friday</td>\n",
       "      <td>1/1/2016</td>\n",
       "      <td>Friday</td>\n",
       "      <td>4:43:25</td>\n",
       "      <td>1/1/2016</td>\n",
       "      <td>4:48:45</td>\n",
       "      <td>1/1/2016</td>\n",
       "      <td>5:10:07</td>\n",
       "      <td>...</td>\n",
       "      <td>0</td>\n",
       "      <td>0</td>\n",
       "      <td>0</td>\n",
       "      <td>743</td>\n",
       "      <td>False Alarm</td>\n",
       "      <td>smoke detector activation, no fire - unintenti...</td>\n",
       "      <td>n none</td>\n",
       "      <td>6.0</td>\n",
       "      <td>Tenderloin</td>\n",
       "      <td>1</td>\n",
       "    </tr>\n",
       "    <tr>\n",
       "      <th>3</th>\n",
       "      <td>Minna St/4th Street</td>\n",
       "      <td>1/1/2016</td>\n",
       "      <td>Friday</td>\n",
       "      <td>1/1/2016</td>\n",
       "      <td>Friday</td>\n",
       "      <td>17:55:50</td>\n",
       "      <td>1/1/2016</td>\n",
       "      <td>18:03:16</td>\n",
       "      <td>1/1/2016</td>\n",
       "      <td>18:05:59</td>\n",
       "      <td>...</td>\n",
       "      <td>0</td>\n",
       "      <td>0</td>\n",
       "      <td>0</td>\n",
       "      <td>151</td>\n",
       "      <td>Fire</td>\n",
       "      <td>outside rubbish, trash or waste fire</td>\n",
       "      <td>n none</td>\n",
       "      <td>6.0</td>\n",
       "      <td>South of Market</td>\n",
       "      <td>1</td>\n",
       "    </tr>\n",
       "    <tr>\n",
       "      <th>4</th>\n",
       "      <td>Golden Gate Av/6th Street</td>\n",
       "      <td>1/1/2016</td>\n",
       "      <td>Friday</td>\n",
       "      <td>1/1/2016</td>\n",
       "      <td>Friday</td>\n",
       "      <td>5:35:47</td>\n",
       "      <td>1/1/2016</td>\n",
       "      <td>5:41:10</td>\n",
       "      <td>1/1/2016</td>\n",
       "      <td>5:42:21</td>\n",
       "      <td>...</td>\n",
       "      <td>0</td>\n",
       "      <td>0</td>\n",
       "      <td>0</td>\n",
       "      <td>151</td>\n",
       "      <td>Fire</td>\n",
       "      <td>outside rubbish, trash or waste fire</td>\n",
       "      <td>n none</td>\n",
       "      <td>6.0</td>\n",
       "      <td>South of Market</td>\n",
       "      <td>1</td>\n",
       "    </tr>\n",
       "  </tbody>\n",
       "</table>\n",
       "<p>5 rows × 27 columns</p>\n",
       "</div>"
      ],
      "text/plain": [
       "                     Address IncidentDate Incident day   AlarmDt Alarm day  \\\n",
       "0       5th St/jessie Street     1/1/2016       Friday  1/1/2016    Friday   \n",
       "1  Stockton St/sutter Street     1/1/2016       Friday  1/1/2016    Friday   \n",
       "2     277 Golden Gate Avenue     1/1/2016       Friday  1/1/2016    Friday   \n",
       "3        Minna St/4th Street     1/1/2016       Friday  1/1/2016    Friday   \n",
       "4  Golden Gate Av/6th Street     1/1/2016       Friday  1/1/2016    Friday   \n",
       "\n",
       "    AlarmTm ArrivalDt ArrivalTm   CloseDt   CloseTm  ... EMSPersonnel  \\\n",
       "0   3:05:56  1/1/2016   3:12:09  1/1/2016   3:13:08  ...            0   \n",
       "1   8:20:46  1/1/2016   8:24:57  1/1/2016   8:25:17  ...            0   \n",
       "2   4:43:25  1/1/2016   4:48:45  1/1/2016   5:10:07  ...            0   \n",
       "3  17:55:50  1/1/2016  18:03:16  1/1/2016  18:05:59  ...            0   \n",
       "4   5:35:47  1/1/2016   5:41:10  1/1/2016   5:42:21  ...            0   \n",
       "\n",
       "   OtherUnits OtherPersonnel  Primary     Category  \\\n",
       "0           0              0      600  Good Intent   \n",
       "1           0              0      710  False Alarm   \n",
       "2           0              0      743  False Alarm   \n",
       "3           0              0      151         Fire   \n",
       "4           0              0      151         Fire   \n",
       "\n",
       "                                    PrimarySituation  MutualAid  \\\n",
       "0                            good intent call, other     n none   \n",
       "1           malicious, mischievous false call, other     n none   \n",
       "2  smoke detector activation, no fire - unintenti...     n none   \n",
       "3               outside rubbish, trash or waste fire     n none   \n",
       "4               outside rubbish, trash or waste fire     n none   \n",
       "\n",
       "   SupervisorDistrict            NeighborhoodDistrict  month  \n",
       "0                 6.0                 South of Market      1  \n",
       "1                 3.0  Financial District/South Beach      1  \n",
       "2                 6.0                      Tenderloin      1  \n",
       "3                 6.0                 South of Market      1  \n",
       "4                 6.0                 South of Market      1  \n",
       "\n",
       "[5 rows x 27 columns]"
      ]
     },
     "execution_count": 33,
     "metadata": {},
     "output_type": "execute_result"
    }
   ],
   "source": [
    "# extract month from Indcident Date column and add month column\n",
    "SFOEMS['month'] = pd.DatetimeIndex(SFOEMS['IncidentDate']).month\n",
    "SFOEMS.head()"
   ]
  },
  {
   "cell_type": "code",
   "execution_count": 7,
   "metadata": {},
   "outputs": [],
   "source": [
    "#To create a dictionary of month to seasons\n",
    "#season = {'Spring': [3, 4, 5],\n",
    "         #'Summer': [6, 7, 8],\n",
    "         #'Fall': [9, 10, 11],\n",
    "         #'Winter': [12, 1, 2]}\n",
    "#print(season)"
   ]
  },
  {
   "cell_type": "code",
   "execution_count": 18,
   "metadata": {},
   "outputs": [],
   "source": [
    "#months_map = {1: 'Jan', 2: 'Feb', 3:'Mar', 4:'Apr', 5:'May', 6:'Jun', 7:'Jul', 8: 'Aug', 9:'Sep', 10:'Oct', 11:'Nov', 12:'Dec'}\n",
    "#def mapper(month):\n",
    "    #return months_map[month]\n",
    "#months_map"
   ]
  },
  {
   "cell_type": "code",
   "execution_count": 8,
   "metadata": {},
   "outputs": [],
   "source": [
    "import calendar\n",
    "SFOEMS['month'] = SFOEMS['month'].apply(lambda x: calendar.month_abbr[x])"
   ]
  },
  {
   "cell_type": "code",
   "execution_count": 34,
   "metadata": {},
   "outputs": [
    {
     "name": "stdout",
     "output_type": "stream",
     "text": [
      "{'Spring': ['Mar', 'Apr', 'May'], 'Summer': ['Jun', 'Jul', 'Aug'], 'Fall': ['Sep', 'Oct', 'Oct'], 'Winter': ['Dec', 'Jan', 'Feb']}\n"
     ]
    }
   ],
   "source": [
    "season = {'Spring': ['Mar', 'Apr', 'May'],\n",
    "         'Summer': ['Jun', 'Jul', 'Aug'],\n",
    "         'Fall': ['Sep', 'Oct', 'Oct'],\n",
    "         'Winter': ['Dec', 'Jan', 'Feb']}\n",
    "print(season)"
   ]
  },
  {
   "cell_type": "code",
   "execution_count": 35,
   "metadata": {},
   "outputs": [
    {
     "data": {
      "text/html": [
       "<div>\n",
       "<style scoped>\n",
       "    .dataframe tbody tr th:only-of-type {\n",
       "        vertical-align: middle;\n",
       "    }\n",
       "\n",
       "    .dataframe tbody tr th {\n",
       "        vertical-align: top;\n",
       "    }\n",
       "\n",
       "    .dataframe thead th {\n",
       "        text-align: right;\n",
       "    }\n",
       "</style>\n",
       "<table border=\"1\" class=\"dataframe\">\n",
       "  <thead>\n",
       "    <tr style=\"text-align: right;\">\n",
       "      <th></th>\n",
       "      <th>Address</th>\n",
       "      <th>IncidentDate</th>\n",
       "      <th>Incident day</th>\n",
       "      <th>AlarmDt</th>\n",
       "      <th>Alarm day</th>\n",
       "      <th>AlarmTm</th>\n",
       "      <th>ArrivalDt</th>\n",
       "      <th>ArrivalTm</th>\n",
       "      <th>CloseDt</th>\n",
       "      <th>CloseTm</th>\n",
       "      <th>...</th>\n",
       "      <th>OtherUnits</th>\n",
       "      <th>OtherPersonnel</th>\n",
       "      <th>Primary</th>\n",
       "      <th>Category</th>\n",
       "      <th>PrimarySituation</th>\n",
       "      <th>MutualAid</th>\n",
       "      <th>SupervisorDistrict</th>\n",
       "      <th>NeighborhoodDistrict</th>\n",
       "      <th>month</th>\n",
       "      <th>Season</th>\n",
       "    </tr>\n",
       "  </thead>\n",
       "  <tbody>\n",
       "    <tr>\n",
       "      <th>63524</th>\n",
       "      <td>0 Taraval Street</td>\n",
       "      <td>12/31/2017</td>\n",
       "      <td>Sunday</td>\n",
       "      <td>12/31/2017</td>\n",
       "      <td>Sunday</td>\n",
       "      <td>11:12:06</td>\n",
       "      <td>12/31/2017</td>\n",
       "      <td>11:12:06</td>\n",
       "      <td>12/31/2017</td>\n",
       "      <td>11:37:30</td>\n",
       "      <td>...</td>\n",
       "      <td>0</td>\n",
       "      <td>0</td>\n",
       "      <td>324</td>\n",
       "      <td>EMS</td>\n",
       "      <td>motor vehicle accident with no injuries.</td>\n",
       "      <td>n none</td>\n",
       "      <td>7.0</td>\n",
       "      <td>West of Twin Peaks</td>\n",
       "      <td>12</td>\n",
       "      <td>NaN</td>\n",
       "    </tr>\n",
       "    <tr>\n",
       "      <th>63525</th>\n",
       "      <td>701 Taylor Street</td>\n",
       "      <td>12/31/2017</td>\n",
       "      <td>Sunday</td>\n",
       "      <td>12/31/2017</td>\n",
       "      <td>Sunday</td>\n",
       "      <td>23:27:39</td>\n",
       "      <td>12/31/2017</td>\n",
       "      <td>23:31:23</td>\n",
       "      <td>12/31/2017</td>\n",
       "      <td>23:42:24</td>\n",
       "      <td>...</td>\n",
       "      <td>0</td>\n",
       "      <td>0</td>\n",
       "      <td>700</td>\n",
       "      <td>False Alarm</td>\n",
       "      <td>false alarm or false call, other</td>\n",
       "      <td>n none</td>\n",
       "      <td>3.0</td>\n",
       "      <td>Nob Hill</td>\n",
       "      <td>12</td>\n",
       "      <td>NaN</td>\n",
       "    </tr>\n",
       "    <tr>\n",
       "      <th>63526</th>\n",
       "      <td>0 Larkin Street</td>\n",
       "      <td>12/31/2017</td>\n",
       "      <td>Sunday</td>\n",
       "      <td>12/31/2017</td>\n",
       "      <td>Sunday</td>\n",
       "      <td>23:40:43</td>\n",
       "      <td>12/31/2017</td>\n",
       "      <td>23:44:17</td>\n",
       "      <td>1/1/2018</td>\n",
       "      <td>0:54:44</td>\n",
       "      <td>...</td>\n",
       "      <td>0</td>\n",
       "      <td>0</td>\n",
       "      <td>322</td>\n",
       "      <td>EMS</td>\n",
       "      <td>motor vehicle accident with injuries</td>\n",
       "      <td>n none</td>\n",
       "      <td>3.0</td>\n",
       "      <td>Russian Hill</td>\n",
       "      <td>12</td>\n",
       "      <td>NaN</td>\n",
       "    </tr>\n",
       "    <tr>\n",
       "      <th>63527</th>\n",
       "      <td>0 Sawyer Street</td>\n",
       "      <td>12/31/2017</td>\n",
       "      <td>Sunday</td>\n",
       "      <td>12/31/2017</td>\n",
       "      <td>Sunday</td>\n",
       "      <td>17:37:54</td>\n",
       "      <td>12/31/2017</td>\n",
       "      <td>17:39:31</td>\n",
       "      <td>12/31/2017</td>\n",
       "      <td>18:28:38</td>\n",
       "      <td>...</td>\n",
       "      <td>0</td>\n",
       "      <td>0</td>\n",
       "      <td>300</td>\n",
       "      <td>EMS</td>\n",
       "      <td>rescue, ems incident, other</td>\n",
       "      <td>n none</td>\n",
       "      <td>10.0</td>\n",
       "      <td>Visitacion Valley</td>\n",
       "      <td>12</td>\n",
       "      <td>NaN</td>\n",
       "    </tr>\n",
       "    <tr>\n",
       "      <th>63528</th>\n",
       "      <td>150 Loehr Street</td>\n",
       "      <td>12/31/2017</td>\n",
       "      <td>Sunday</td>\n",
       "      <td>12/31/2017</td>\n",
       "      <td>Sunday</td>\n",
       "      <td>12:30:40</td>\n",
       "      <td>12/31/2017</td>\n",
       "      <td>12:35:01</td>\n",
       "      <td>12/31/2017</td>\n",
       "      <td>12:42:06</td>\n",
       "      <td>...</td>\n",
       "      <td>0</td>\n",
       "      <td>0</td>\n",
       "      <td>651</td>\n",
       "      <td>Good Intent</td>\n",
       "      <td>smoke scare, odor of smoke</td>\n",
       "      <td>n none</td>\n",
       "      <td>10.0</td>\n",
       "      <td>Visitacion Valley</td>\n",
       "      <td>12</td>\n",
       "      <td>NaN</td>\n",
       "    </tr>\n",
       "  </tbody>\n",
       "</table>\n",
       "<p>5 rows × 28 columns</p>\n",
       "</div>"
      ],
      "text/plain": [
       "                 Address IncidentDate Incident day     AlarmDt Alarm day  \\\n",
       "63524   0 Taraval Street   12/31/2017       Sunday  12/31/2017    Sunday   \n",
       "63525  701 Taylor Street   12/31/2017       Sunday  12/31/2017    Sunday   \n",
       "63526    0 Larkin Street   12/31/2017       Sunday  12/31/2017    Sunday   \n",
       "63527    0 Sawyer Street   12/31/2017       Sunday  12/31/2017    Sunday   \n",
       "63528   150 Loehr Street   12/31/2017       Sunday  12/31/2017    Sunday   \n",
       "\n",
       "        AlarmTm   ArrivalDt ArrivalTm     CloseDt   CloseTm  ... OtherUnits  \\\n",
       "63524  11:12:06  12/31/2017  11:12:06  12/31/2017  11:37:30  ...          0   \n",
       "63525  23:27:39  12/31/2017  23:31:23  12/31/2017  23:42:24  ...          0   \n",
       "63526  23:40:43  12/31/2017  23:44:17    1/1/2018   0:54:44  ...          0   \n",
       "63527  17:37:54  12/31/2017  17:39:31  12/31/2017  18:28:38  ...          0   \n",
       "63528  12:30:40  12/31/2017  12:35:01  12/31/2017  12:42:06  ...          0   \n",
       "\n",
       "       OtherPersonnel Primary     Category  \\\n",
       "63524               0     324          EMS   \n",
       "63525               0     700  False Alarm   \n",
       "63526               0     322          EMS   \n",
       "63527               0     300          EMS   \n",
       "63528               0     651  Good Intent   \n",
       "\n",
       "                               PrimarySituation  MutualAid  \\\n",
       "63524  motor vehicle accident with no injuries.     n none   \n",
       "63525          false alarm or false call, other     n none   \n",
       "63526      motor vehicle accident with injuries     n none   \n",
       "63527               rescue, ems incident, other     n none   \n",
       "63528                smoke scare, odor of smoke     n none   \n",
       "\n",
       "       SupervisorDistrict  NeighborhoodDistrict  month  Season  \n",
       "63524                 7.0    West of Twin Peaks     12     NaN  \n",
       "63525                 3.0              Nob Hill     12     NaN  \n",
       "63526                 3.0          Russian Hill     12     NaN  \n",
       "63527                10.0     Visitacion Valley     12     NaN  \n",
       "63528                10.0     Visitacion Valley     12     NaN  \n",
       "\n",
       "[5 rows x 28 columns]"
      ]
     },
     "execution_count": 35,
     "metadata": {},
     "output_type": "execute_result"
    }
   ],
   "source": [
    "#To add season column to df using append\n",
    "SFOEMS['Season']=SFOEMS['month'].map(season)\n",
    "SFOEMS.tail()"
   ]
  },
  {
   "cell_type": "code",
   "execution_count": 36,
   "metadata": {},
   "outputs": [
    {
     "data": {
      "text/html": [
       "<div>\n",
       "<style scoped>\n",
       "    .dataframe tbody tr th:only-of-type {\n",
       "        vertical-align: middle;\n",
       "    }\n",
       "\n",
       "    .dataframe tbody tr th {\n",
       "        vertical-align: top;\n",
       "    }\n",
       "\n",
       "    .dataframe thead th {\n",
       "        text-align: right;\n",
       "    }\n",
       "</style>\n",
       "<table border=\"1\" class=\"dataframe\">\n",
       "  <thead>\n",
       "    <tr style=\"text-align: right;\">\n",
       "      <th></th>\n",
       "      <th>Address</th>\n",
       "      <th>IncidentDate</th>\n",
       "      <th>Incident day</th>\n",
       "      <th>AlarmDt</th>\n",
       "      <th>Alarm day</th>\n",
       "      <th>AlarmTm</th>\n",
       "      <th>ArrivalDt</th>\n",
       "      <th>ArrivalTm</th>\n",
       "      <th>CloseDt</th>\n",
       "      <th>CloseTm</th>\n",
       "      <th>...</th>\n",
       "      <th>OtherUnits</th>\n",
       "      <th>OtherPersonnel</th>\n",
       "      <th>Primary</th>\n",
       "      <th>Category</th>\n",
       "      <th>PrimarySituation</th>\n",
       "      <th>MutualAid</th>\n",
       "      <th>SupervisorDistrict</th>\n",
       "      <th>NeighborhoodDistrict</th>\n",
       "      <th>month</th>\n",
       "      <th>Season</th>\n",
       "    </tr>\n",
       "  </thead>\n",
       "  <tbody>\n",
       "    <tr>\n",
       "      <th>63524</th>\n",
       "      <td>0 Taraval Street</td>\n",
       "      <td>12/31/2017</td>\n",
       "      <td>Sunday</td>\n",
       "      <td>12/31/2017</td>\n",
       "      <td>Sunday</td>\n",
       "      <td>11:12:06</td>\n",
       "      <td>12/31/2017</td>\n",
       "      <td>11:12:06</td>\n",
       "      <td>12/31/2017</td>\n",
       "      <td>11:37:30</td>\n",
       "      <td>...</td>\n",
       "      <td>0</td>\n",
       "      <td>0</td>\n",
       "      <td>324</td>\n",
       "      <td>EMS</td>\n",
       "      <td>motor vehicle accident with no injuries.</td>\n",
       "      <td>n none</td>\n",
       "      <td>7.0</td>\n",
       "      <td>West of Twin Peaks</td>\n",
       "      <td>12</td>\n",
       "      <td>NaN</td>\n",
       "    </tr>\n",
       "    <tr>\n",
       "      <th>63525</th>\n",
       "      <td>701 Taylor Street</td>\n",
       "      <td>12/31/2017</td>\n",
       "      <td>Sunday</td>\n",
       "      <td>12/31/2017</td>\n",
       "      <td>Sunday</td>\n",
       "      <td>23:27:39</td>\n",
       "      <td>12/31/2017</td>\n",
       "      <td>23:31:23</td>\n",
       "      <td>12/31/2017</td>\n",
       "      <td>23:42:24</td>\n",
       "      <td>...</td>\n",
       "      <td>0</td>\n",
       "      <td>0</td>\n",
       "      <td>700</td>\n",
       "      <td>False Alarm</td>\n",
       "      <td>false alarm or false call, other</td>\n",
       "      <td>n none</td>\n",
       "      <td>3.0</td>\n",
       "      <td>Nob Hill</td>\n",
       "      <td>12</td>\n",
       "      <td>NaN</td>\n",
       "    </tr>\n",
       "    <tr>\n",
       "      <th>63526</th>\n",
       "      <td>0 Larkin Street</td>\n",
       "      <td>12/31/2017</td>\n",
       "      <td>Sunday</td>\n",
       "      <td>12/31/2017</td>\n",
       "      <td>Sunday</td>\n",
       "      <td>23:40:43</td>\n",
       "      <td>12/31/2017</td>\n",
       "      <td>23:44:17</td>\n",
       "      <td>1/1/2018</td>\n",
       "      <td>0:54:44</td>\n",
       "      <td>...</td>\n",
       "      <td>0</td>\n",
       "      <td>0</td>\n",
       "      <td>322</td>\n",
       "      <td>EMS</td>\n",
       "      <td>motor vehicle accident with injuries</td>\n",
       "      <td>n none</td>\n",
       "      <td>3.0</td>\n",
       "      <td>Russian Hill</td>\n",
       "      <td>12</td>\n",
       "      <td>NaN</td>\n",
       "    </tr>\n",
       "    <tr>\n",
       "      <th>63527</th>\n",
       "      <td>0 Sawyer Street</td>\n",
       "      <td>12/31/2017</td>\n",
       "      <td>Sunday</td>\n",
       "      <td>12/31/2017</td>\n",
       "      <td>Sunday</td>\n",
       "      <td>17:37:54</td>\n",
       "      <td>12/31/2017</td>\n",
       "      <td>17:39:31</td>\n",
       "      <td>12/31/2017</td>\n",
       "      <td>18:28:38</td>\n",
       "      <td>...</td>\n",
       "      <td>0</td>\n",
       "      <td>0</td>\n",
       "      <td>300</td>\n",
       "      <td>EMS</td>\n",
       "      <td>rescue, ems incident, other</td>\n",
       "      <td>n none</td>\n",
       "      <td>10.0</td>\n",
       "      <td>Visitacion Valley</td>\n",
       "      <td>12</td>\n",
       "      <td>NaN</td>\n",
       "    </tr>\n",
       "    <tr>\n",
       "      <th>63528</th>\n",
       "      <td>150 Loehr Street</td>\n",
       "      <td>12/31/2017</td>\n",
       "      <td>Sunday</td>\n",
       "      <td>12/31/2017</td>\n",
       "      <td>Sunday</td>\n",
       "      <td>12:30:40</td>\n",
       "      <td>12/31/2017</td>\n",
       "      <td>12:35:01</td>\n",
       "      <td>12/31/2017</td>\n",
       "      <td>12:42:06</td>\n",
       "      <td>...</td>\n",
       "      <td>0</td>\n",
       "      <td>0</td>\n",
       "      <td>651</td>\n",
       "      <td>Good Intent</td>\n",
       "      <td>smoke scare, odor of smoke</td>\n",
       "      <td>n none</td>\n",
       "      <td>10.0</td>\n",
       "      <td>Visitacion Valley</td>\n",
       "      <td>12</td>\n",
       "      <td>NaN</td>\n",
       "    </tr>\n",
       "  </tbody>\n",
       "</table>\n",
       "<p>5 rows × 28 columns</p>\n",
       "</div>"
      ],
      "text/plain": [
       "                 Address IncidentDate Incident day     AlarmDt Alarm day  \\\n",
       "63524   0 Taraval Street   12/31/2017       Sunday  12/31/2017    Sunday   \n",
       "63525  701 Taylor Street   12/31/2017       Sunday  12/31/2017    Sunday   \n",
       "63526    0 Larkin Street   12/31/2017       Sunday  12/31/2017    Sunday   \n",
       "63527    0 Sawyer Street   12/31/2017       Sunday  12/31/2017    Sunday   \n",
       "63528   150 Loehr Street   12/31/2017       Sunday  12/31/2017    Sunday   \n",
       "\n",
       "        AlarmTm   ArrivalDt ArrivalTm     CloseDt   CloseTm  ... OtherUnits  \\\n",
       "63524  11:12:06  12/31/2017  11:12:06  12/31/2017  11:37:30  ...          0   \n",
       "63525  23:27:39  12/31/2017  23:31:23  12/31/2017  23:42:24  ...          0   \n",
       "63526  23:40:43  12/31/2017  23:44:17    1/1/2018   0:54:44  ...          0   \n",
       "63527  17:37:54  12/31/2017  17:39:31  12/31/2017  18:28:38  ...          0   \n",
       "63528  12:30:40  12/31/2017  12:35:01  12/31/2017  12:42:06  ...          0   \n",
       "\n",
       "       OtherPersonnel Primary     Category  \\\n",
       "63524               0     324          EMS   \n",
       "63525               0     700  False Alarm   \n",
       "63526               0     322          EMS   \n",
       "63527               0     300          EMS   \n",
       "63528               0     651  Good Intent   \n",
       "\n",
       "                               PrimarySituation  MutualAid  \\\n",
       "63524  motor vehicle accident with no injuries.     n none   \n",
       "63525          false alarm or false call, other     n none   \n",
       "63526      motor vehicle accident with injuries     n none   \n",
       "63527               rescue, ems incident, other     n none   \n",
       "63528                smoke scare, odor of smoke     n none   \n",
       "\n",
       "       SupervisorDistrict  NeighborhoodDistrict  month  Season  \n",
       "63524                 7.0    West of Twin Peaks     12     NaN  \n",
       "63525                 3.0              Nob Hill     12     NaN  \n",
       "63526                 3.0          Russian Hill     12     NaN  \n",
       "63527                10.0     Visitacion Valley     12     NaN  \n",
       "63528                10.0     Visitacion Valley     12     NaN  \n",
       "\n",
       "[5 rows x 28 columns]"
      ]
     },
     "execution_count": 36,
     "metadata": {},
     "output_type": "execute_result"
    }
   ],
   "source": [
    "SFOEMS.tail()"
   ]
  },
  {
   "cell_type": "code",
   "execution_count": 37,
   "metadata": {},
   "outputs": [
    {
     "data": {
      "text/plain": [
       "(4000, 6000)"
      ]
     },
     "execution_count": 37,
     "metadata": {},
     "output_type": "execute_result"
    },
    {
     "data": {
      "image/png": "[encoded data removed]",
      "text/plain": [
       "<Figure size 432x288 with 1 Axes>"
      ]
     },
     "metadata": {},
     "output_type": "display_data"
    }
   ],
   "source": [
    "#to calculate calls by month\n",
    "month_calls=SFOEMS['month'].value_counts().plot(kind='bar', grid=False)\n",
    "plt.ylim(4000,6000)"
   ]
  },
  {
   "cell_type": "code",
   "execution_count": 38,
   "metadata": {},
   "outputs": [
    {
     "data": {
      "text/plain": [
       "(8000, 10000)"
      ]
     },
     "execution_count": 38,
     "metadata": {},
     "output_type": "execute_result"
    },
    {
     "data": {
      "image/png": "[encoded data removed]",
      "text/plain": [
       "<Figure size 432x288 with 1 Axes>"
      ]
     },
     "metadata": {},
     "output_type": "display_data"
    }
   ],
   "source": [
    "#to calculate calls by day of week\n",
    "sns.set_palette('RdBu')\n",
    "month_calls=SFOEMS['Incident day'].value_counts().plot(kind='bar', grid=False)\n",
    "plt.ylim(8000,10000)"
   ]
  },
  {
   "cell_type": "code",
   "execution_count": 39,
   "metadata": {},
   "outputs": [
    {
     "data": {
      "text/plain": [
       "(8000, 10000)"
      ]
     },
     "execution_count": 39,
     "metadata": {},
     "output_type": "execute_result"
    },
    {
     "data": {
      "image/png": "[encoded data removed]",
      "text/plain": [
       "<Figure size 432x288 with 1 Axes>"
      ]
     },
     "metadata": {},
     "output_type": "display_data"
    }
   ],
   "source": [
    "#to calculate number of calls by day - for staffing purposes\n",
    "month_calls=sns.countplot(x='Incident day', data=SFOEMS, palette='rainbow_r')\n",
    "plt.xticks(rotation=90)\n",
    "plt.ylim(8000,10000)"
   ]
  },
  {
   "cell_type": "code",
   "execution_count": 15,
   "metadata": {},
   "outputs": [
    {
     "ename": "TypeError",
     "evalue": "ufunc 'isnan' not supported for the input types, and the inputs could not be safely coerced to any supported types according to the casting rule ''safe''",
     "output_type": "error",
     "traceback": [
      "\u001b[0;31m---------------------------------------------------------------------------\u001b[0m",
      "\u001b[0;31mTypeError\u001b[0m                                 Traceback (most recent call last)",
      "\u001b[0;32m<ipython-input-15-d28014486b3a>\u001b[0m in \u001b[0;36m<module>\u001b[0;34m\u001b[0m\n\u001b[1;32m      1\u001b[0m \u001b[0mzip_calls\u001b[0m \u001b[0;34m=\u001b[0m \u001b[0mpd\u001b[0m\u001b[0;34m.\u001b[0m\u001b[0mpivot_table\u001b[0m\u001b[0;34m(\u001b[0m\u001b[0mSFOEMS\u001b[0m\u001b[0;34m,\u001b[0m\u001b[0mvalues\u001b[0m\u001b[0;34m=\u001b[0m\u001b[0;34m'Primary'\u001b[0m\u001b[0;34m,\u001b[0m\u001b[0mindex\u001b[0m\u001b[0;34m=\u001b[0m\u001b[0;34m[\u001b[0m\u001b[0;34m'Category'\u001b[0m\u001b[0;34m]\u001b[0m\u001b[0;34m,\u001b[0m \u001b[0mcolumns\u001b[0m\u001b[0;34m=\u001b[0m\u001b[0;34m'Zipcode'\u001b[0m\u001b[0;34m)\u001b[0m\u001b[0;34m\u001b[0m\u001b[0;34m\u001b[0m\u001b[0m\n\u001b[0;32m----> 2\u001b[0;31m \u001b[0msns\u001b[0m\u001b[0;34m.\u001b[0m\u001b[0mheatmap\u001b[0m\u001b[0;34m(\u001b[0m\u001b[0mSFOEMS\u001b[0m\u001b[0;34m,\u001b[0m\u001b[0mcmap\u001b[0m\u001b[0;34m=\u001b[0m\u001b[0;34m'YlGnBu'\u001b[0m\u001b[0;34m)\u001b[0m\u001b[0;34m\u001b[0m\u001b[0;34m\u001b[0m\u001b[0m\n\u001b[0m",
      "\u001b[0;32m/opt/tljh/user/lib/python3.6/site-packages/seaborn/matrix.py\u001b[0m in \u001b[0;36mheatmap\u001b[0;34m(data, vmin, vmax, cmap, center, robust, annot, fmt, annot_kws, linewidths, linecolor, cbar, cbar_kws, cbar_ax, square, xticklabels, yticklabels, mask, ax, **kwargs)\u001b[0m\n\u001b[1;32m    515\u001b[0m     plotter = _HeatMapper(data, vmin, vmax, cmap, center, robust, annot, fmt,\n\u001b[1;32m    516\u001b[0m                           \u001b[0mannot_kws\u001b[0m\u001b[0;34m,\u001b[0m \u001b[0mcbar\u001b[0m\u001b[0;34m,\u001b[0m \u001b[0mcbar_kws\u001b[0m\u001b[0;34m,\u001b[0m \u001b[0mxticklabels\u001b[0m\u001b[0;34m,\u001b[0m\u001b[0;34m\u001b[0m\u001b[0;34m\u001b[0m\u001b[0m\n\u001b[0;32m--> 517\u001b[0;31m                           yticklabels, mask)\n\u001b[0m\u001b[1;32m    518\u001b[0m \u001b[0;34m\u001b[0m\u001b[0m\n\u001b[1;32m    519\u001b[0m     \u001b[0;31m# Add the pcolormesh kwargs here\u001b[0m\u001b[0;34m\u001b[0m\u001b[0;34m\u001b[0m\u001b[0;34m\u001b[0m\u001b[0m\n",
      "\u001b[0;32m/opt/tljh/user/lib/python3.6/site-packages/seaborn/matrix.py\u001b[0m in \u001b[0;36m__init__\u001b[0;34m(self, data, vmin, vmax, cmap, center, robust, annot, fmt, annot_kws, cbar, cbar_kws, xticklabels, yticklabels, mask)\u001b[0m\n\u001b[1;32m    165\u001b[0m         \u001b[0;31m# Determine good default values for the colormapping\u001b[0m\u001b[0;34m\u001b[0m\u001b[0;34m\u001b[0m\u001b[0;34m\u001b[0m\u001b[0m\n\u001b[1;32m    166\u001b[0m         self._determine_cmap_params(plot_data, vmin, vmax,\n\u001b[0;32m--> 167\u001b[0;31m                                     cmap, center, robust)\n\u001b[0m\u001b[1;32m    168\u001b[0m \u001b[0;34m\u001b[0m\u001b[0m\n\u001b[1;32m    169\u001b[0m         \u001b[0;31m# Sort out the annotations\u001b[0m\u001b[0;34m\u001b[0m\u001b[0;34m\u001b[0m\u001b[0;34m\u001b[0m\u001b[0m\n",
      "\u001b[0;32m/opt/tljh/user/lib/python3.6/site-packages/seaborn/matrix.py\u001b[0m in \u001b[0;36m_determine_cmap_params\u001b[0;34m(self, plot_data, vmin, vmax, cmap, center, robust)\u001b[0m\n\u001b[1;32m    202\u001b[0m                                cmap, center, robust):\n\u001b[1;32m    203\u001b[0m         \u001b[0;34m\"\"\"Use some heuristics to set good defaults for colorbar and range.\"\"\"\u001b[0m\u001b[0;34m\u001b[0m\u001b[0;34m\u001b[0m\u001b[0m\n\u001b[0;32m--> 204\u001b[0;31m         \u001b[0mcalc_data\u001b[0m \u001b[0;34m=\u001b[0m \u001b[0mplot_data\u001b[0m\u001b[0;34m.\u001b[0m\u001b[0mdata\u001b[0m\u001b[0;34m[\u001b[0m\u001b[0;34m~\u001b[0m\u001b[0mnp\u001b[0m\u001b[0;34m.\u001b[0m\u001b[0misnan\u001b[0m\u001b[0;34m(\u001b[0m\u001b[0mplot_data\u001b[0m\u001b[0;34m.\u001b[0m\u001b[0mdata\u001b[0m\u001b[0;34m)\u001b[0m\u001b[0;34m]\u001b[0m\u001b[0;34m\u001b[0m\u001b[0;34m\u001b[0m\u001b[0m\n\u001b[0m\u001b[1;32m    205\u001b[0m         \u001b[0;32mif\u001b[0m \u001b[0mvmin\u001b[0m \u001b[0;32mis\u001b[0m \u001b[0;32mNone\u001b[0m\u001b[0;34m:\u001b[0m\u001b[0;34m\u001b[0m\u001b[0;34m\u001b[0m\u001b[0m\n\u001b[1;32m    206\u001b[0m             \u001b[0mvmin\u001b[0m \u001b[0;34m=\u001b[0m \u001b[0mnp\u001b[0m\u001b[0;34m.\u001b[0m\u001b[0mpercentile\u001b[0m\u001b[0;34m(\u001b[0m\u001b[0mcalc_data\u001b[0m\u001b[0;34m,\u001b[0m \u001b[0;36m2\u001b[0m\u001b[0;34m)\u001b[0m \u001b[0;32mif\u001b[0m \u001b[0mrobust\u001b[0m \u001b[0;32melse\u001b[0m \u001b[0mcalc_data\u001b[0m\u001b[0;34m.\u001b[0m\u001b[0mmin\u001b[0m\u001b[0;34m(\u001b[0m\u001b[0;34m)\u001b[0m\u001b[0;34m\u001b[0m\u001b[0;34m\u001b[0m\u001b[0m\n",
      "\u001b[0;31mTypeError\u001b[0m: ufunc 'isnan' not supported for the input types, and the inputs could not be safely coerced to any supported types according to the casting rule ''safe''"
     ]
    }
   ],
   "source": [
    "zip_calls = pd.pivot_table(SFOEMS,values='Primary',index=['Category'], columns='Zipcode')\n",
    "sns.heatmap(SFOEMS,cmap='YlGnBu')"
   ]
  },
  {
   "cell_type": "code",
   "execution_count": 27,
   "metadata": {},
   "outputs": [
    {
     "ename": "KeyError",
     "evalue": "\"None of ['Zipcodes', 'Category'] are in the columns\"",
     "output_type": "error",
     "traceback": [
      "\u001b[0;31m---------------------------------------------------------------------------\u001b[0m",
      "\u001b[0;31mKeyError\u001b[0m                                  Traceback (most recent call last)",
      "\u001b[0;32m<ipython-input-27-8d58fca11075>\u001b[0m in \u001b[0;36m<module>\u001b[0;34m\u001b[0m\n\u001b[1;32m      7\u001b[0m \u001b[0;34m\u001b[0m\u001b[0m\n\u001b[1;32m      8\u001b[0m \u001b[0;31m#zip_calls = sns.load_dataset(SFOEMS)\u001b[0m\u001b[0;34m\u001b[0m\u001b[0;34m\u001b[0m\u001b[0;34m\u001b[0m\u001b[0m\n\u001b[0;32m----> 9\u001b[0;31m \u001b[0mSFOEMS\u001b[0m \u001b[0;34m=\u001b[0m \u001b[0mzip_calls\u001b[0m\u001b[0;34m.\u001b[0m\u001b[0mpivot\u001b[0m\u001b[0;34m(\u001b[0m\u001b[0;34m\"Zipcodes\"\u001b[0m\u001b[0;34m,\u001b[0m \u001b[0;34m\"Category\"\u001b[0m\u001b[0;34m)\u001b[0m\u001b[0;34m\u001b[0m\u001b[0;34m\u001b[0m\u001b[0m\n\u001b[0m\u001b[1;32m     10\u001b[0m \u001b[0mSFOEMS\u001b[0m \u001b[0;34m=\u001b[0m \u001b[0mflights\u001b[0m\u001b[0;34m.\u001b[0m\u001b[0mreindex\u001b[0m\u001b[0;34m(\u001b[0m\u001b[0mzip_calls\u001b[0m\u001b[0;34m.\u001b[0m\u001b[0miloc\u001b[0m\u001b[0;34m[\u001b[0m\u001b[0;34m:\u001b[0m\u001b[0;36m12\u001b[0m\u001b[0;34m]\u001b[0m\u001b[0;34m.\u001b[0m\u001b[0mmonth\u001b[0m\u001b[0;34m)\u001b[0m\u001b[0;34m\u001b[0m\u001b[0;34m\u001b[0m\u001b[0m\n\u001b[1;32m     11\u001b[0m \u001b[0;34m\u001b[0m\u001b[0m\n",
      "\u001b[0;32m/opt/tljh/user/lib/python3.6/site-packages/pandas/core/frame.py\u001b[0m in \u001b[0;36mpivot\u001b[0;34m(self, index, columns, values)\u001b[0m\n\u001b[1;32m   5932\u001b[0m         \u001b[0;32mfrom\u001b[0m \u001b[0mpandas\u001b[0m\u001b[0;34m.\u001b[0m\u001b[0mcore\u001b[0m\u001b[0;34m.\u001b[0m\u001b[0mreshape\u001b[0m\u001b[0;34m.\u001b[0m\u001b[0mpivot\u001b[0m \u001b[0;32mimport\u001b[0m \u001b[0mpivot\u001b[0m\u001b[0;34m\u001b[0m\u001b[0;34m\u001b[0m\u001b[0m\n\u001b[1;32m   5933\u001b[0m \u001b[0;34m\u001b[0m\u001b[0m\n\u001b[0;32m-> 5934\u001b[0;31m         \u001b[0;32mreturn\u001b[0m \u001b[0mpivot\u001b[0m\u001b[0;34m(\u001b[0m\u001b[0mself\u001b[0m\u001b[0;34m,\u001b[0m \u001b[0mindex\u001b[0m\u001b[0;34m=\u001b[0m\u001b[0mindex\u001b[0m\u001b[0;34m,\u001b[0m \u001b[0mcolumns\u001b[0m\u001b[0;34m=\u001b[0m\u001b[0mcolumns\u001b[0m\u001b[0;34m,\u001b[0m \u001b[0mvalues\u001b[0m\u001b[0;34m=\u001b[0m\u001b[0mvalues\u001b[0m\u001b[0;34m)\u001b[0m\u001b[0;34m\u001b[0m\u001b[0;34m\u001b[0m\u001b[0m\n\u001b[0m\u001b[1;32m   5935\u001b[0m \u001b[0;34m\u001b[0m\u001b[0m\n\u001b[1;32m   5936\u001b[0m     _shared_docs[\n",
      "\u001b[0;32m/opt/tljh/user/lib/python3.6/site-packages/pandas/core/reshape/pivot.py\u001b[0m in \u001b[0;36mpivot\u001b[0;34m(data, index, columns, values)\u001b[0m\n\u001b[1;32m    413\u001b[0m         \u001b[0mcols\u001b[0m \u001b[0;34m=\u001b[0m \u001b[0;34m[\u001b[0m\u001b[0mcolumns\u001b[0m\u001b[0;34m]\u001b[0m \u001b[0;32mif\u001b[0m \u001b[0mindex\u001b[0m \u001b[0;32mis\u001b[0m \u001b[0;32mNone\u001b[0m \u001b[0;32melse\u001b[0m \u001b[0;34m[\u001b[0m\u001b[0mindex\u001b[0m\u001b[0;34m,\u001b[0m \u001b[0mcolumns\u001b[0m\u001b[0;34m]\u001b[0m\u001b[0;34m\u001b[0m\u001b[0;34m\u001b[0m\u001b[0m\n\u001b[1;32m    414\u001b[0m         \u001b[0mappend\u001b[0m \u001b[0;34m=\u001b[0m \u001b[0mindex\u001b[0m \u001b[0;32mis\u001b[0m \u001b[0;32mNone\u001b[0m\u001b[0;34m\u001b[0m\u001b[0;34m\u001b[0m\u001b[0m\n\u001b[0;32m--> 415\u001b[0;31m         \u001b[0mindexed\u001b[0m \u001b[0;34m=\u001b[0m \u001b[0mdata\u001b[0m\u001b[0;34m.\u001b[0m\u001b[0mset_index\u001b[0m\u001b[0;34m(\u001b[0m\u001b[0mcols\u001b[0m\u001b[0;34m,\u001b[0m \u001b[0mappend\u001b[0m\u001b[0;34m=\u001b[0m\u001b[0mappend\u001b[0m\u001b[0;34m)\u001b[0m\u001b[0;34m\u001b[0m\u001b[0;34m\u001b[0m\u001b[0m\n\u001b[0m\u001b[1;32m    416\u001b[0m     \u001b[0;32melse\u001b[0m\u001b[0;34m:\u001b[0m\u001b[0;34m\u001b[0m\u001b[0;34m\u001b[0m\u001b[0m\n\u001b[1;32m    417\u001b[0m         \u001b[0;32mif\u001b[0m \u001b[0mindex\u001b[0m \u001b[0;32mis\u001b[0m \u001b[0;32mNone\u001b[0m\u001b[0;34m:\u001b[0m\u001b[0;34m\u001b[0m\u001b[0;34m\u001b[0m\u001b[0m\n",
      "\u001b[0;32m/opt/tljh/user/lib/python3.6/site-packages/pandas/core/frame.py\u001b[0m in \u001b[0;36mset_index\u001b[0;34m(self, keys, drop, append, inplace, verify_integrity)\u001b[0m\n\u001b[1;32m   4409\u001b[0m \u001b[0;34m\u001b[0m\u001b[0m\n\u001b[1;32m   4410\u001b[0m         \u001b[0;32mif\u001b[0m \u001b[0mmissing\u001b[0m\u001b[0;34m:\u001b[0m\u001b[0;34m\u001b[0m\u001b[0;34m\u001b[0m\u001b[0m\n\u001b[0;32m-> 4411\u001b[0;31m             \u001b[0;32mraise\u001b[0m \u001b[0mKeyError\u001b[0m\u001b[0;34m(\u001b[0m\u001b[0;34m\"None of {} are in the columns\"\u001b[0m\u001b[0;34m.\u001b[0m\u001b[0mformat\u001b[0m\u001b[0;34m(\u001b[0m\u001b[0mmissing\u001b[0m\u001b[0;34m)\u001b[0m\u001b[0;34m)\u001b[0m\u001b[0;34m\u001b[0m\u001b[0;34m\u001b[0m\u001b[0m\n\u001b[0m\u001b[1;32m   4412\u001b[0m \u001b[0;34m\u001b[0m\u001b[0m\n\u001b[1;32m   4413\u001b[0m         \u001b[0;32mif\u001b[0m \u001b[0minplace\u001b[0m\u001b[0;34m:\u001b[0m\u001b[0;34m\u001b[0m\u001b[0;34m\u001b[0m\u001b[0m\n",
      "\u001b[0;31mKeyError\u001b[0m: \"None of ['Zipcodes', 'Category'] are in the columns\""
     ]
    }
   ],
   "source": [
    "#to map call type vs zip code\n",
    "#corr=SFOEMS.corr()\n",
    "#sns.heatmap(xticklabels=SFOEMS['Zipcode'], yticklabels=SFOEMS['Category'], cmap='icefire_r')\n",
    "import seaborn.matrix as smatrix\n",
    "\n",
    "sns.set()\n",
    "\n",
    "#zip_calls = sns.load_dataset(SFOEMS)\n",
    "SFOEMS = zip_calls.pivot(\"Zipcodes\", \"Category\")\n",
    "SFOEMS = flights.reindex(zip_calls.iloc[:12].month)\n",
    "\n",
    "columns = [1953,1955]\n",
    "myflights = flights.copy()\n",
    "mask = myflights.columns.isin(columns)\n",
    "myflights.loc[:, ~mask] = 0\n",
    "arr = flights.values\n",
    "vmin, vmax = arr.min(), arr.max()\n",
    "sns.heatmap(myflights, annot=True, fmt=\"d\", vmin=vmin, vmax=vmax)\n",
    "plt.show()\n",
    "\n",
    "\n",
    "#sns.set(style='ticks')\n",
    "#x=SFOEMS['Zipcode']\n",
    "#y=SFOEMS['Category']\n",
    "#sns.jointplot(x,y, kind='hex', color='#4cb391')\n",
    "\n",
    "#zip_calls = SFOEMS.pivot('Zipcode', 'Category')\n",
    "#ax= sns.heatmap(zip_calls)"
   ]
  },
  {
   "cell_type": "code",
   "execution_count": 16,
   "metadata": {},
   "outputs": [
    {
     "data": {
      "text/plain": [
       "(array([ 0,  1,  2,  3,  4,  5,  6,  7,  8,  9, 10, 11, 12, 13, 14, 15, 16,\n",
       "        17, 18, 19, 20, 21, 22, 23, 24, 25, 26, 27]),\n",
       " <a list of 28 Text xticklabel objects>)"
      ]
     },
     "execution_count": 16,
     "metadata": {},
     "output_type": "execute_result"
    },
    {
     "data": {
      "image/png": "[encoded data removed]",
      "text/plain": [
       "<Figure size 432x288 with 1 Axes>"
      ]
     },
     "metadata": {
      "needs_background": "light"
     },
     "output_type": "display_data"
    }
   ],
   "source": [
    "#to calculate number of calls by zip code - for staffing purposes\n",
    "month_calls=sns.countplot(x='Zipcode', data=SFOEMS, palette='inferno')\n",
    "plt.xticks(rotation=90)\n",
    "#plt.ylim(8000,10000)"
   ]
  },
  {
   "cell_type": "code",
   "execution_count": 17,
   "metadata": {},
   "outputs": [
    {
     "data": {
      "text/plain": [
       "(array([ 0,  1,  2,  3,  4,  5,  6,  7,  8,  9, 10, 11, 12, 13, 14, 15, 16,\n",
       "        17, 18, 19, 20, 21, 22, 23, 24, 25, 26, 27]),\n",
       " <a list of 28 Text xticklabel objects>)"
      ]
     },
     "execution_count": 17,
     "metadata": {},
     "output_type": "execute_result"
    },
    {
     "data": {
      "image/png": "[encoded data removed]",
      "text/plain": [
       "<Figure size 432x288 with 1 Axes>"
      ]
     },
     "metadata": {
      "needs_background": "light"
     },
     "output_type": "display_data"
    }
   ],
   "source": [
    "#to calculate number of calls by zip code - for staffing purposes\n",
    "month_calls=sns.countplot(x='Zipcode', data=SFOEMS, palette='inferno')\n",
    "plt.xticks(rotation=90)\n",
    "#plt.ylim(8000,10000)"
   ]
  },
  {
   "cell_type": "code",
   "execution_count": 18,
   "metadata": {},
   "outputs": [
    {
     "data": {
      "image/png": "[encoded data removed]",
      "text/plain": [
       "<Figure size 432x288 with 1 Axes>"
      ]
     },
     "metadata": {},
     "output_type": "display_data"
    }
   ],
   "source": [
    "#to calculate calls by day of week\n",
    "sns.set(color_codes=True)\n",
    "month_calls=SFOEMS['Zipcode'].value_counts().plot(kind='bar', grid=False)\n",
    "#plt.ylim(8000,10000)"
   ]
  },
  {
   "cell_type": "code",
   "execution_count": 19,
   "metadata": {},
   "outputs": [
    {
     "data": {
      "image/png": "[encoded data removed]",
      "text/plain": [
       "<Figure size 432x288 with 1 Axes>"
      ]
     },
     "metadata": {},
     "output_type": "display_data"
    }
   ],
   "source": [
    "#to take the top 4 zip codes from above chart\n",
    "\n",
    "sns.set(color_codes=True)\n",
    "month_calls=SFOEMS['Category'].value_counts().plot(kind='bar', grid=False)\n",
    "#plt.ylim(8000,10000)"
   ]
  },
  {
   "cell_type": "code",
   "execution_count": 35,
   "metadata": {},
   "outputs": [
    {
     "data": {
      "text/plain": [
       "0    False\n",
       "1    False\n",
       "2    False\n",
       "3    False\n",
       "4    False\n",
       "Name: Zipcode, dtype: bool"
      ]
     },
     "execution_count": 35,
     "metadata": {},
     "output_type": "execute_result"
    }
   ],
   "source": [
    "sns.set(color_codes=True)\n",
    "month_calls94103=SFOEMS['Zipcode']=='94103'\n",
    "month_calls94103.head()\n",
    "#month_calls94103=SFOEMS['Category'].value_counts().plot(kind='bar', grid=False)\n",
    "#plt.ylim(8000,10000)"
   ]
  },
  {
   "cell_type": "code",
   "execution_count": 54,
   "metadata": {},
   "outputs": [
    {
     "data": {
      "text/plain": [
       "(6536, 28)"
      ]
     },
     "execution_count": 54,
     "metadata": {},
     "output_type": "execute_result"
    }
   ],
   "source": [
    "# create a seperate dataframe for top 4 zipcodes - zip1: 94103\n",
    "top_zip1= SFOEMS.loc[SFOEMS['Zipcode'] == 94103]\n",
    "top_zip1.shape"
   ]
  },
  {
   "cell_type": "code",
   "execution_count": 55,
   "metadata": {},
   "outputs": [
    {
     "data": {
      "text/plain": [
       "(5962, 28)"
      ]
     },
     "execution_count": 55,
     "metadata": {},
     "output_type": "execute_result"
    }
   ],
   "source": [
    "# create a seperate dataframe for top 4 zipcodes - zip2: 94102\n",
    "top_zip2= SFOEMS.loc[SFOEMS['Zipcode'] == 94102]\n",
    "top_zip2.shape"
   ]
  },
  {
   "cell_type": "code",
   "execution_count": 56,
   "metadata": {},
   "outputs": [
    {
     "data": {
      "text/plain": [
       "(5002, 28)"
      ]
     },
     "execution_count": 56,
     "metadata": {},
     "output_type": "execute_result"
    }
   ],
   "source": [
    "# create a seperate dataframe for top 4 zipcodes - zip3: 94109\n",
    "top_zip3= SFOEMS.loc[SFOEMS['Zipcode'] == 94109]\n",
    "top_zip3.shape"
   ]
  },
  {
   "cell_type": "code",
   "execution_count": 57,
   "metadata": {},
   "outputs": [
    {
     "data": {
      "text/plain": [
       "(4548, 28)"
      ]
     },
     "execution_count": 57,
     "metadata": {},
     "output_type": "execute_result"
    }
   ],
   "source": [
    "# create a seperate dataframe for top 4 zipcodes - zip4: 94110\n",
    "top_zip4= SFOEMS.loc[SFOEMS['Zipcode'] == 94110]\n",
    "top_zip4.shape"
   ]
  },
  {
   "cell_type": "code",
   "execution_count": 74,
   "metadata": {},
   "outputs": [
    {
     "data": {
      "text/plain": [
       "(array([0, 1, 2, 3, 4, 5, 6, 7, 8]), <a list of 9 Text xticklabel objects>)"
      ]
     },
     "execution_count": 74,
     "metadata": {},
     "output_type": "execute_result"
    },
    {
     "data": {
      "image/png": "[encoded data removed]",
      "text/plain": [
       "<Figure size 432x288 with 1 Axes>"
      ]
     },
     "metadata": {},
     "output_type": "display_data"
    }
   ],
   "source": [
    "zip1_count=sns.countplot(x='Category', data=top_zip1, palette='inferno')\n",
    "plt.xticks(rotation=90)"
   ]
  },
  {
   "cell_type": "code",
   "execution_count": 69,
   "metadata": {},
   "outputs": [
    {
     "data": {
      "text/plain": [
       "(array([0, 1, 2, 3, 4, 5, 6, 7, 8]), <a list of 9 Text xticklabel objects>)"
      ]
     },
     "execution_count": 69,
     "metadata": {},
     "output_type": "execute_result"
    },
    {
     "data": {
      "image/png": "[encoded data removed]",
      "text/plain": [
       "<Figure size 432x288 with 1 Axes>"
      ]
     },
     "metadata": {},
     "output_type": "display_data"
    }
   ],
   "source": [
    "zip2_count=sns.countplot(x='Category', data=top_zip2, palette='rainbow')\n",
    "plt.xticks(rotation=90)"
   ]
  },
  {
   "cell_type": "code",
   "execution_count": 70,
   "metadata": {},
   "outputs": [
    {
     "data": {
      "text/plain": [
       "(array([0, 1, 2, 3, 4, 5, 6, 7, 8]), <a list of 9 Text xticklabel objects>)"
      ]
     },
     "execution_count": 70,
     "metadata": {},
     "output_type": "execute_result"
    },
    {
     "data": {
      "image/png": "[encoded data removed]",
      "text/plain": [
       "<Figure size 432x288 with 1 Axes>"
      ]
     },
     "metadata": {},
     "output_type": "display_data"
    }
   ],
   "source": [
    "zip3_count=sns.countplot(x='Category', data=top_zip3, palette='inferno')\n",
    "plt.xticks(rotation=90)"
   ]
  },
  {
   "cell_type": "code",
   "execution_count": 71,
   "metadata": {},
   "outputs": [
    {
     "data": {
      "text/plain": [
       "(array([0, 1, 2, 3, 4, 5, 6, 7, 8]), <a list of 9 Text xticklabel objects>)"
      ]
     },
     "execution_count": 71,
     "metadata": {},
     "output_type": "execute_result"
    },
    {
     "data": {
      "image/png": "[encoded data removed]",
      "text/plain": [
       "<Figure size 432x288 with 1 Axes>"
      ]
     },
     "metadata": {},
     "output_type": "display_data"
    }
   ],
   "source": [
    "zip4_count=sns.countplot(x='Category', data=top_zip4, palette='inferno')\n",
    "plt.xticks(rotation=90)"
   ]
  },
  {
   "cell_type": "code",
   "execution_count": null,
   "metadata": {},
   "outputs": [],
   "source": []
  }
 ],
 "metadata": {
  "kernelspec": {
   "display_name": "Python 3",
   "language": "python",
   "name": "python3"
  },
  "language_info": {
   "codemirror_mode": {
    "name": "ipython",
    "version": 3
   },
   "file_extension": ".py",
   "mimetype": "text/x-python",
   "name": "python",
   "nbconvert_exporter": "python",
   "pygments_lexer": "ipython3",
   "version": "3.6.7"
  }
 },
 "nbformat": 4,
 "nbformat_minor": 2
}
